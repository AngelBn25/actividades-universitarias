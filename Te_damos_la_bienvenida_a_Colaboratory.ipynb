{
  "cells": [
    {
      "cell_type": "markdown",
      "metadata": {
        "id": "view-in-github",
        "colab_type": "text"
      },
      "source": [
        "<a href=\"https://colab.research.google.com/github/AngelBn25/actividades-universitarias/blob/main/Te_damos_la_bienvenida_a_Colaboratory.ipynb\" target=\"_parent\"><img src=\"https://colab.research.google.com/assets/colab-badge.svg\" alt=\"Open In Colab\"/></a>"
      ]
    },
    {
      "cell_type": "code",
      "source": [
        "import math\n",
        "radio=float(input(print(\"ingrese el valor del radio para hayar el area de un circulo \")))\n",
        "area=math.pi*radio**2\n",
        "print(\"el area del circulo es \",round(area))"
      ],
      "metadata": {
        "id": "q9yM1OP0C803"
      },
      "execution_count": null,
      "outputs": []
    },
    {
      "cell_type": "code",
      "source": [
        "import math\n",
        "numero=float(input(print(\"ingrese le numero para conocer su raiz cuadrada\")))\n",
        "r4=numero**(1/4)\n",
        "print(\"la raiz cuadrada (redondeada) del numero ingresado es \",round(r4))"
      ],
      "metadata": {
        "colab": {
          "base_uri": "https://localhost:8080/"
        },
        "id": "Xl-6GNhWDtxe",
        "outputId": "bf26e374-f475-40cb-cfb9-3411ca2a3e9d"
      },
      "execution_count": 2,
      "outputs": [
        {
          "output_type": "stream",
          "name": "stdout",
          "text": [
            "ingrese le numero para conocer su raiz cuadrada\n",
            "None5\n",
            "la raiz cuadradad del numero ingresado es  1\n"
          ]
        }
      ]
    },
    {
      "cell_type": "code",
      "source": [
        "import math\n",
        "np=str(input(print(\"ingrese el nombre del articulo \")))\n",
        "pp=float(input(print(\"ingrese el costo de produccion\")))\n",
        "ct=(pp*2.2)-(pp*0.15)\n",
        "print(\"el costo total del articulo \",np,\" es de \",ct,\" bolibares\")"
      ],
      "metadata": {
        "colab": {
          "base_uri": "https://localhost:8080/"
        },
        "id": "RLy4m_qkEw-F",
        "outputId": "e09abf27-848e-4b23-c814-206ac22518b8"
      },
      "execution_count": 5,
      "outputs": [
        {
          "output_type": "stream",
          "name": "stdout",
          "text": [
            "ingrese el nombre del articulo \n",
            "Nonearepa\n",
            "ingrese el costo de produccion\n",
            "None5000\n",
            "el costo total del articulo  arepa  es de  10250.0  bolibares\n"
          ]
        }
      ]
    }
  ],
  "metadata": {
    "colab": {
      "name": "Te damos la bienvenida a Colaboratory",
      "toc_visible": true,
      "provenance": [],
      "include_colab_link": true
    },
    "kernelspec": {
      "display_name": "Python 3",
      "name": "python3"
    }
  },
  "nbformat": 4,
  "nbformat_minor": 0
}