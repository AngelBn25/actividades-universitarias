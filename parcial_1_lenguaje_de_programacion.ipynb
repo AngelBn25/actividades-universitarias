{
  "nbformat": 4,
  "nbformat_minor": 0,
  "metadata": {
    "colab": {
      "provenance": [],
      "authorship_tag": "ABX9TyMu6g9f8CwrXO8Cxix1tYAB",
      "include_colab_link": true
    },
    "kernelspec": {
      "name": "python3",
      "display_name": "Python 3"
    },
    "language_info": {
      "name": "python"
    }
  },
  "cells": [
    {
      "cell_type": "markdown",
      "metadata": {
        "id": "view-in-github",
        "colab_type": "text"
      },
      "source": [
        "<a href=\"https://colab.research.google.com/github/AngelBn25/actividades-universitarias/blob/main/parcial_1_lenguaje_de_programacion.ipynb\" target=\"_parent\"><img src=\"https://colab.research.google.com/assets/colab-badge.svg\" alt=\"Open In Colab\"/></a>"
      ]
    },
    {
      "cell_type": "code",
      "execution_count": null,
      "metadata": {
        "id": "IKYJQf7KMj94"
      },
      "outputs": [],
      "source": [
        "pingre=str(input(\"ingrese la palabra o frase para poder invertirla \"))\n",
        "pinver=\"\"\n",
        "for i in range(len(pingre)):\n",
        "  pinver += pingre[len(pingre)-1-i]\n",
        "print(pinver)"
      ]
    },
    {
      "cell_type": "code",
      "source": [
        "m1,m2,m3 = []\n",
        "print(\"Ingrese los elementos de la primera matriz 2x2:\")\n",
        "for i in range(2):\n",
        "    row = []\n",
        "    for j in range(2):\n",
        "        ni = float(input(f\"Ingrese el elemento en la posicion ({i+1}, {j+1}): \"))\n",
        "        row.append(ni)\n",
        "    m1.append(row)\n",
        "\n",
        "print(\"\\nIngrese los elementos de la segunda matriz 2x2:\")\n",
        "for i in range(2):\n",
        "    row = []\n",
        "    for j in range(2):\n",
        "        ni2 = float(input(f\"Ingrese el elemento en la posicion ({i+1}, {j+1}): \"))\n",
        "        row.append(ni2)\n",
        "    m2.append(row)\n",
        "for i in range(2):\n",
        "    row = []\n",
        "    for j in range(2):\n",
        "        sum_element = m1[i][j] + m2[i][j]\n",
        "        row.append(sum_element)\n",
        "    m3.append(row)\n",
        "\n",
        "print(\"\\nLa suma de las matrices es:\")\n",
        "for row in m3:\n",
        "    print(row)"
      ],
      "metadata": {
        "id": "Rb5VX3-nSpmO"
      },
      "execution_count": null,
      "outputs": []
    }
  ]
}