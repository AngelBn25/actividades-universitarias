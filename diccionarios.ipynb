{
  "nbformat": 4,
  "nbformat_minor": 0,
  "metadata": {
    "colab": {
      "provenance": [],
      "authorship_tag": "ABX9TyNw7ghGfGjlxMAV1Q+8FL6m",
      "include_colab_link": true
    },
    "kernelspec": {
      "name": "python3",
      "display_name": "Python 3"
    },
    "language_info": {
      "name": "python"
    }
  },
  "cells": [
    {
      "cell_type": "markdown",
      "metadata": {
        "id": "view-in-github",
        "colab_type": "text"
      },
      "source": [
        "<a href=\"https://colab.research.google.com/github/AngelBn25/actividades-universitarias/blob/main/diccionarios.ipynb\" target=\"_parent\"><img src=\"https://colab.research.google.com/assets/colab-badge.svg\" alt=\"Open In Colab\"/></a>"
      ]
    },
    {
      "cell_type": "code",
      "execution_count": null,
      "metadata": {
        "id": "69--ROXVbO6T"
      },
      "outputs": [],
      "source": [
        "# actividad 1\n",
        "def crear_diccinario_cuadrados():\n",
        "  n = int(input(\"Ingrese un numero entero positivo: \"))\n",
        "  if n <= 0:\n",
        "    print(\"El numero debe ser positivo\")\n",
        "    return\n",
        "\n",
        "  diccionario = {}\n",
        "  for i in range(1, n + 1):\n",
        "    diccionario[i] = i**2\n",
        "\n",
        "  print(\"\\nDiccionario generado de cuadrados:\")\n",
        "  print(diccionario)\n"
      ]
    },
    {
      "cell_type": "code",
      "source": [
        "# actividad 2\n",
        "#solicitud de variables\n",
        "cosas=str(input(print(\"ingresa algo random\")))\n",
        "letra=str(input(print(\"ingrese la letra a contar\")))\n",
        "#contabilizacion de cantidad de letras repetidas\n",
        "cant_let=cosas.count(letra)\n",
        "#ingresar la cantidad en un diccionario\n",
        "dic_cant_let={letra:cant_let}\n",
        "#el print de ese diccionario\n",
        "print(dic_cant_let)"
      ],
      "metadata": {
        "id": "oHKAUjqvbYrq"
      },
      "execution_count": null,
      "outputs": []
    },
    {
      "cell_type": "code",
      "source": [
        "#Actividad 3\n",
        "def venta_frutas():\n",
        "  precios ={\n",
        "      \"Manzana\": 2500,\n",
        "      \"Pera\": 1800,\n",
        "      \"Naranja\": 2000,\n",
        "      \"Fresa\": 3500,\n",
        "      \"Uva\": 4000\n",
        "  }\n",
        "  while True:\n",
        "    fruta = input(\"\\nIngrese el nombre de la fruta \").lower()\n",
        "    if fruta.capitalize() in precios:\n",
        "      cantidad = float(input(\"Ingrese la cantidad de vendida (en kg): \"))\n",
        "      total = precios[fruta.capitalize()] * cantidad\n",
        "      print(f\"\\nEl precio total de {cantidad} kg de {fruta} es: ${total:.2f}\")\n",
        "    else:\n",
        "      print(\"Fruta no encontrada en el diccionario de precios.\")\n",
        "    continuar = input(\"¿Desea vender otra fruta? (s/n): \").lower()\n",
        "    if continuar != \"s\":\n",
        "      break\n",
        "\n",
        "# ==== Menu Principal ====\n",
        "def menu():\n",
        "  while True:\n",
        "    print(\"\\nMenu de Ejercicios:\")\n",
        "    print(\"1. Crear diccionario de cuadrados\")\n",
        "    print(\"2. Contar caracteres en una cadena\")\n",
        "    print(\"3. Venta de frutas\")\n",
        "    print(\"0. Salir\")\n",
        "    opcion = input(\"Seleccione una opción: por favor .-. \")\n",
        "\n",
        "    if opcion == \"1\":\n",
        "      crear_diccinario_cuadrados()\n",
        "    elif opcion == \"2\":\n",
        "      ejecutar_contador_caracteres()\n",
        "    elif opcion == \"3\":\n",
        "      venta_frutas()\n",
        "    elif opcion == \"0\":\n",
        "      print(\"Saliendo del programa gracias por usuarlo sayonara :) .\")\n",
        "      break\n",
        "    else:\n",
        "      print(\"Opción no válida, intente nuevamente por favor escoge algo del menu .-. ._.\")\n",
        "\n",
        "# Ejecutar el menu principal\n",
        "menu()"
      ],
      "metadata": {
        "id": "E2m6Sjj_bcNO"
      },
      "execution_count": null,
      "outputs": []
    }
  ]
}