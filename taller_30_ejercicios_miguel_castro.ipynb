{
  "nbformat": 4,
  "nbformat_minor": 0,
  "metadata": {
    "colab": {
      "provenance": []
    },
    "kernelspec": {
      "name": "python3",
      "display_name": "Python 3"
    },
    "language_info": {
      "name": "python"
    }
  },
  "cells": [
    {
      "cell_type": "code",
      "execution_count": null,
      "metadata": {
        "id": "xAE-iVvKoqSp"
      },
      "outputs": [],
      "source": [
        "print(\"hola mundo!\")\n",
        "print(\"__________________________________________________________________________________-\")\n",
        "nombre =input(\"favor de escribr tu nombre\")\n",
        "print(nombre)\n",
        "print(\"__________________________________________________________________________________-\")\n",
        "eje1=int(input(\"ingrese el primero numero\"))\n",
        "eje12=int(input(\"ingrese el segundo numero\"))\n",
        "print(eje1+eje12)\n",
        "print(\"__________________________________________________________________________________-\")\n",
        "eje2=int(input(\"ingrese la base del triangulo\"))\n",
        "eje22=int(input(\"ingrese la altura del triangulo\"))\n",
        "print((eje2*eje22)/2)\n",
        "print(\"__________________________________________________________________________________-\")\n",
        "eje3=int(input(\"ingrese los grados celsius\"))\n",
        "print((eje3*9/5)+32)\n",
        "print(\"__________________________________________________________________________________-\")\n",
        "eje4=int(input(\"ingrese el numero para ver si es par o impar\"))\n",
        "if eje4%2==0:\n",
        "    print(\"el numero es par\")\n",
        "else:\n",
        "    print(\"el numero es impar\")\n",
        "print(\"__________________________________________________________________________________-\")\n",
        "eje51=int(input(\"ingrese el primer numero\"))\n",
        "eje52=int(input(\"ingrese el segundo numero\"))\n",
        "eje53=int(input(\"ingrese el tercer numero\"))\n",
        "if eje51>eje52 and eje51>eje53:\n",
        "    print(eje51)\n",
        "if eje52>eje51 and eje52>eje53:\n",
        "    print(eje52)\n",
        "if eje53>eje51 and eje53>eje52:\n",
        "    print(eje53)\n",
        "print(\"__________________________________________________________________________________-\")\n",
        "eje6=int(input(\"ingrese el numero para elevar al cuadrado\"))\n",
        "cuadrado= pow(eje6,2)\n",
        "print(cuadrado)\n",
        "print(\"__________________________________________________________________________________-\")\n",
        "eje7=int(input(\"ingrese el numero para mostrar la tabla de multiplicar\"))\n",
        "for i in range(1,11):\n",
        "    print(eje7,\"x\",i,\"=\",eje7*i)\n",
        "print(\"__________________________________________________________________________________-\")\n",
        "eje8=input(\"ingrese la palabra para invertir\")\n",
        "print(eje8[::-1])\n",
        "print(\"__________________________________________________________________________________-\")\n",
        "print(\"ya termine el nivel 1\")\n"
      ]
    },
    {
      "cell_type": "code",
      "source": [
        "eje1=int(input(\"ingrese su edad para la verificacion \"))\n",
        "if eje1>=18:\n",
        "    print(\"usted es mayor de edad\")\n",
        "else:\n",
        "    print(\"usted es menor de edad\")\n",
        "print(\"__________________________________________________________________________________-\")\n",
        "eje2=int(input(\"ingrese le numero para mostrar la factorial \"))\n",
        "if eje2==0:\n",
        "  print(\"el favor de ingresar un numero diferente de 0 o que se pueda majerarrrrr\")\n",
        "else:\n",
        "    import math\n",
        "    factorial=(math.factorial(eje2))\n",
        "    print(factorial)\n",
        "print(\"__________________________________________________________________________________-\")\n",
        "eje31=int(input(\"ingrese el primer numero\"))\n",
        "eje32=int(input(\"ingrese el segundo numero\"))\n",
        "eje33=int(input(\"ingrese el tercer numero\"))\n",
        "eje34=int(input(\"ingrese el cuarto numero\"))\n",
        "eje35=int(input(\"ingrese el quinto numero\"))\n",
        "print(\"el promedio de los 5 numero es \",(eje31+eje32+eje33+eje34+eje35)/5)\n",
        "print(\"__________________________________________________________________________________-\")\n",
        "eje4=int(input(\"ingrese el numero paramostrar los numeros pares desde el 1 hasta el numero ingresado \"))\n",
        "for i in range(1,eje4+1):\n",
        "    if i%2==0:\n",
        "        print(i)\n",
        "print(\"__________________________________________________________________________________-\")\n",
        "eje5=input(\"ingrese la letra para saber si es vocal o consonante \")\n",
        "if eje5==\"a\" or eje5==\"e\" or eje5==\"i\" or eje5==\"o\" or eje5==\"u\":\n",
        "    print(\"la letra es una vocal\")\n",
        "else:\n",
        "    print(\"la letra es una consonante\")\n",
        "print(\"__________________________________________________________________________________-\")\n",
        "eje61=int(input(\"ingrese el primero numero para la serie de fibonachi\"))\n",
        "eje62=int(input(\"ingrese el segundo numero para la serie de fibonachi\"))\n",
        "for i in range (1,20):\n",
        "    eje63=eje61+eje62\n",
        "    print(eje63)\n",
        "    eje61=eje62\n",
        "    eje62=eje63\n",
        "print(\"__________________________________________________________________________________-\")\n",
        "eje7=int(input(\"ingrese el numero para saber si es primo o no \"))\n",
        "if eje7 <= 1:\n",
        "    print(\"el numero no es primo\")\n",
        "else:\n",
        "    for i in range(2, int(eje7**0.5) + 1):\n",
        "        if eje7 % i == 0:\n",
        "            print(\"el numero no es primo\")\n",
        "            break\n",
        "    else:\n",
        "        print(\"el numero es primo\")\n",
        "\n",
        "print(\"__________________________________________________________________________________-\")\n",
        "for i in range(1,101):\n",
        "    if  i%5==0:\n",
        "      print(i)\n",
        "print(\"__________________________________________________________________________________-\")\n",
        "eje9=input(print(\"ingrese la palabra para contar las vocales\"))\n",
        "if eje9==\"a\" or eje9==\"e\" or eje9==\"i\" or eje9==\"o\" or eje9==\"u\":\n",
        "    print(\"la palabra tiene vocales\")\n",
        "else:\n",
        "    print(\"la palabra no tiene vocales\")\n",
        "print(\"__________________________________________________________________________________-\")\n",
        "eje101=int(input(\"ingrese el primer numero \"))\n",
        "eje102=int(input(\"ingrese el segundo numero \"))\n",
        "eje103=input(\"ingrese la operacion que desea realizar \")\n",
        "if eje103==\"+\":\n",
        "    print(eje101+eje102)\n",
        "elif eje103==\"-\":\n",
        "    print(eje101-eje102)\n",
        "elif eje103==\"*\":\n",
        "    print(eje101*eje102)\n",
        "elif eje103==\"/\":\n",
        "    print(eje101/eje102)\n",
        "else:\n",
        "    print(\"la operacion no es valida\")\n",
        "print(\"__________________________________________________________________________________-\")\n",
        "print(\"ya termine el nivel 2\")"
      ],
      "metadata": {
        "id": "X1ZvAW8JOjUY"
      },
      "execution_count": null,
      "outputs": []
    },
    {
      "cell_type": "code",
      "source": [
        "numeros = []\n",
        "numero_mayor = 0\n",
        "\n",
        "for i in range(10):\n",
        "    num_str = input(f\"Ingrese el número {i+1}: \")\n",
        "    num = int(num_str)\n",
        "    numeros.append(num)\n",
        "\n",
        "    if num == 0:\n",
        "        numero_mayor = num\n",
        "    else:\n",
        "        if num > numero_mayor:\n",
        "            numero_mayor = num\n",
        "\n",
        "print(f\"La lista de números ingresados es: {numeros}\")\n",
        "print(f\"El número mayor ingresado es: {numero_mayor}\")\n",
        "\n"
      ],
      "metadata": {
        "id": "rp7Kqb2EbT45"
      },
      "execution_count": null,
      "outputs": []
    },
    {
      "cell_type": "code",
      "source": [
        "numeros=[]\n",
        "tl=int(input(\"ingrese el tamaño de la lista\"))\n",
        "for i in range (1,tl):\n",
        "    np=int(input(\"ingrese un numero a la lista\"))\n",
        "    numeros.append(np)\n",
        "print(\"los numeros actuales de la lusta junto al recien ingrsado son \")\n",
        "print(numeros)\n",
        "print(\"los numeros de la lista ordenados son: \")\n",
        "numeros.sort()\n",
        "print(numeros)"
      ],
      "metadata": {
        "id": "55cdRgQ5eazo"
      },
      "execution_count": null,
      "outputs": []
    },
    {
      "cell_type": "code",
      "source": [
        "rlista=[]\n",
        "tl=int(input(\"ingrese el tamaño de la lista\"))\n",
        "for i in range(0,tl):\n",
        "    np=int(input(\"ingrese un numero a la lista\"))\n",
        "    rlista.append(np)\n",
        "print(\"la lista ingresada es:\")\n",
        "print(rlista)\n",
        "rlista = list(set(rlista))\n",
        "print(\"La lista sin duplicados es:\")\n",
        "print(rlista)"
      ],
      "metadata": {
        "id": "_jWojjSQhImI"
      },
      "execution_count": null,
      "outputs": []
    },
    {
      "cell_type": "code",
      "source": [
        "nlist=[]\n",
        "tl=int(input(\"ingrese el tamaño de la lista \"))\n",
        "for i in range(0,tl):\n",
        "    nl=(input(\"ingrese un nombre a la lista \"))\n",
        "    nlist.append(nl)\n",
        "print(\"la lista ingresada es:\")\n",
        "print(nlist)\n",
        "print(\"la lista ordenada alfabeticamente es \")\n",
        "nlist.sort()\n",
        "print(nlist)"
      ],
      "metadata": {
        "id": "AxkoEWS6LKCp"
      },
      "execution_count": null,
      "outputs": []
    },
    {
      "cell_type": "code",
      "source": [
        "nlist=[]\n",
        "tl=int(input(\"ingrese el tamaño de la lista \"))\n",
        "for i in range(0,tl):\n",
        "    nl=int(input(\"ingrese un los valores para obtener el total \"))\n",
        "    nlist.append(nl)\n",
        "print(\"la lista ingresada es:\")\n",
        "print(nlist)\n",
        "total=sum(nlist)\n",
        "print(\"el total de la lista es \")\n",
        "print(total)"
      ],
      "metadata": {
        "colab": {
          "base_uri": "https://localhost:8080/"
        },
        "id": "qZ8xCyScNC1d",
        "outputId": "0de227bb-7ed6-457e-b526-357ca16522af"
      },
      "execution_count": 16,
      "outputs": [
        {
          "output_type": "stream",
          "name": "stdout",
          "text": [
            "ingrese el tamaño de la lista 3\n",
            "ingrese un los valores para obtener el total 1\n",
            "ingrese un los valores para obtener el total 2\n",
            "ingrese un los valores para obtener el total 3\n",
            "la lista ingresada es:\n",
            "[1, 2, 3]\n",
            "el total de la lista es \n",
            "6\n"
          ]
        }
      ]
    },
    {
      "cell_type": "code",
      "source": [
        "cola=str\n",
        "list1=[]\n",
        "tl=int(input(\"ingrese el tamaño de la primera lista \"))\n",
        "for i in range(0,tl):\n",
        "    nl=int(input(\"ingrese un los valores de la primera lista \"))\n",
        "    list1.append(nl)\n",
        "print(\"la lista ingresada es:\")\n",
        "print(nlist)\n",
        "\n",
        "list2=[]\n",
        "tl=int(input(\"ingrese el tamaño de la segunda lista \"))\n",
        "for i in range(0,tl):\n",
        "    nl=int(input(\"ingrese un los valores de la segunda lista \"))\n",
        "    list2.append(nl)\n",
        "print(\"la lista ingresada es:\")\n",
        "print(nlist)\n",
        "cola=list1+list2\n",
        "print(\"la cola es \")\n",
        "print(cola)\n"
      ],
      "metadata": {
        "colab": {
          "base_uri": "https://localhost:8080/"
        },
        "id": "ALLryihhN4Yw",
        "outputId": "1751b1c8-6236-46cf-ff9e-7c1543e0b6b7"
      },
      "execution_count": 17,
      "outputs": [
        {
          "output_type": "stream",
          "name": "stdout",
          "text": [
            "ingrese el tamaño de la primera lista 3\n",
            "ingrese un los valores de la primera lista 1\n",
            "ingrese un los valores de la primera lista 2\n",
            "ingrese un los valores de la primera lista 3\n",
            "la lista ingresada es:\n",
            "[1, 2, 3]\n",
            "ingrese el tamaño de la segunda lista 3\n",
            "ingrese un los valores de la segunda lista 4\n",
            "ingrese un los valores de la segunda lista 5\n",
            "ingrese un los valores de la segunda lista 6\n",
            "la lista ingresada es:\n",
            "[1, 2, 3]\n",
            "la cola es \n",
            "[1, 2, 3, 4, 5, 6]\n"
          ]
        }
      ]
    },
    {
      "cell_type": "code",
      "source": [
        "fraser=input(\"ingrese aqui la palabra evaluada \")\n",
        "print(\"la palabra ingresada tiene la siguiente cantidad de caracteres \",len(fraser))"
      ],
      "metadata": {
        "colab": {
          "base_uri": "https://localhost:8080/"
        },
        "id": "9ozdZWFPPIjh",
        "outputId": "634e6835-594f-420b-bad3-47f86fefe2fa"
      },
      "execution_count": 21,
      "outputs": [
        {
          "output_type": "stream",
          "name": "stdout",
          "text": [
            "ingrese aqui la palabra evaluada hola\n",
            "la palabra ingresada tiene la siguiente cantidad de caracteres  4\n"
          ]
        }
      ]
    },
    {
      "cell_type": "code",
      "source": [
        "pnormal=str(input(\"ingresa la palabra que se verificara si es espejo o no \"))\n",
        "print(\"la plabra ingresada es \",pnormal,\"lo que significa que \")\n",
        "pinvert=str(pnormal[::-1])\n",
        "if pnormal==pinvert:\n",
        "    print(\"es un palindromo\")\n",
        "else:\n",
        "    print(\"no es un palindromo\")"
      ],
      "metadata": {
        "colab": {
          "base_uri": "https://localhost:8080/"
        },
        "id": "I13e2pjrPuNC",
        "outputId": "c2eda129-83fe-4685-edb1-6f7faa94cbfc"
      },
      "execution_count": 22,
      "outputs": [
        {
          "output_type": "stream",
          "name": "stdout",
          "text": [
            "ingresa la palabra que se verificara si es espejo o no alola\n",
            "la plabra ingresada es  alola lo que significa que \n",
            "es un palindromo\n"
          ]
        }
      ]
    },
    {
      "cell_type": "code",
      "source": [
        "cuadrados=[]\n",
        "normales=[]\n",
        "tl=int(input(\"ingrese el tamaño de la primera lista \"))\n",
        "for i in range(0,tl):\n",
        "    nl=int(input(\"ingrese un los valores de la primera lista \"))\n",
        "    normales.append(nl)\n",
        "    cuadrados.append(nl**2)\n",
        "print(\"la lista ingresada es:\")\n",
        "print(normales)\n",
        "print(\"la lista de cuadrados es \",cuadrados)"
      ],
      "metadata": {
        "colab": {
          "base_uri": "https://localhost:8080/"
        },
        "id": "MxoYailgRppN",
        "outputId": "8e858f45-ecbb-489a-ecf5-1c9b41c91441"
      },
      "execution_count": 23,
      "outputs": [
        {
          "output_type": "stream",
          "name": "stdout",
          "text": [
            "ingrese el tamaño de la primera lista 4\n",
            "ingrese un los valores de la primera lista 1\n",
            "ingrese un los valores de la primera lista 2\n",
            "ingrese un los valores de la primera lista 3\n",
            "ingrese un los valores de la primera lista 4\n",
            "la lista ingresada es:\n",
            "[1, 2, 3, 4]\n",
            "la lista de cuadrados es  [1, 4, 9, 16]\n"
          ]
        }
      ]
    },
    {
      "cell_type": "code",
      "source": [
        "numeros = []\n",
        "numero_mayor = None\n",
        "segundo_mayor = None\n",
        "\n",
        "tl = int(input(\"ingrese el tamaño de la lista \"))\n",
        "\n",
        "for i in range(tl):\n",
        "    num = int(input(f\"Ingrese el número {i+1}: \"))\n",
        "    numeros.append(num)\n",
        "\n",
        "    if i == 0:\n",
        "        numero_mayor = num\n",
        "    elif i == 1:\n",
        "        if num > numero_mayor:\n",
        "            segundo_mayor = numero_mayor\n",
        "            numero_mayor = num\n",
        "        elif num != numero_mayor:\n",
        "            segundo_mayor = num\n",
        "    else:\n",
        "        if num > numero_mayor:\n",
        "            segundo_mayor = numero_mayor\n",
        "            numero_mayor = num\n",
        "        elif segundo_mayor is None or (num > segundo_mayor and num != numero_mayor):\n",
        "            segundo_mayor = num\n",
        "\n",
        "\n",
        "print(\"La lista de números ingresados es: \", numeros)\n",
        "\n",
        "if numero_mayor is not None:\n",
        "    print(\"El número mayor ingresado es:\", numero_mayor)\n",
        "    if segundo_mayor is not None:\n",
        "        print(\"y el segundo numero mas grande es \", segundo_mayor)\n",
        "    else:\n",
        "        print(\"No hay un segundo número más grande\")\n",
        "else:\n",
        "    print(\"No se ingresaron números.\")"
      ],
      "metadata": {
        "colab": {
          "base_uri": "https://localhost:8080/"
        },
        "id": "jLrc5pZoSWzi",
        "outputId": "d00d38a2-7524-459f-efe3-27d9d1ddf25e"
      },
      "execution_count": 39,
      "outputs": [
        {
          "output_type": "stream",
          "name": "stdout",
          "text": [
            "ingrese el tamaño de la lista 3\n",
            "Ingrese el número 1: 3\n",
            "Ingrese el número 2: 21\n",
            "Ingrese el número 3: 1\n",
            "La lista de números ingresados es:  [3, 21, 1]\n",
            "El número mayor ingresado es: 21\n",
            "y el segundo numero mas grande es  3\n"
          ]
        }
      ]
    },
    {
      "cell_type": "code",
      "source": [],
      "metadata": {
        "id": "LaU4HMgkY7cj"
      },
      "execution_count": null,
      "outputs": []
    }
  ]
}